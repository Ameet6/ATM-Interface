{
 "cells": [
  {
   "cell_type": "markdown",
   "id": "c40a22f6-a2f9-447d-9e6a-584cccd4a569",
   "metadata": {},
   "source": [
    "## ATM INTERFACE"
   ]
  },
  {
   "cell_type": "code",
   "execution_count": 1,
   "id": "d5bc3873-0250-4bcf-b27a-8a6eea60f693",
   "metadata": {
    "scrolled": true
   },
   "outputs": [
    {
     "name": "stdout",
     "output_type": "stream",
     "text": [
      "Welcome to Sunrise Bank\n",
      "Please, Insert your ATM card\n"
     ]
    },
    {
     "name": "stdin",
     "output_type": "stream",
     "text": [
      "Enter your pin: 2333\n"
     ]
    },
    {
     "name": "stdout",
     "output_type": "stream",
     "text": [
      "Incorrect pin\n",
      "Please Try  Again\n"
     ]
    }
   ],
   "source": [
    "print(\"Welcome to Sunrise Bank\\nPlease, Insert your ATM card\")\n",
    "password = 12345\n",
    "balance = 10800\n",
    "pin = int(input(\"Enter your pin:\"))\n",
    "if pin == password:\n",
    "    while True:\n",
    "        print(f\"\"\" 1 == Current balance\n",
    " 2 == Transaction History\n",
    " 3 == Withdraw\n",
    " 4 == Deposit\n",
    " 5 == Transfer\n",
    " 6 == Quit \"\"\")\n",
    "        option = int(input(\"Please enter your choice\"))\n",
    "        if option == 1:\n",
    "            print(f\"Your current balance is: {balance}\")\n",
    "        elif option == 2:\n",
    "            print(f\"\"\" 11-6-2024-07:23am, 1000 rupees has been withdrawn from your account at Sunrise bank ATM-1\n",
    "12-6-2024-12:00pm, 600 rupees has been withdrawn from your account at Sunrise bank branch2 ATM1\n",
    "15-6-2024-06:35pm, 2000 rupees has been withdrawn from your account at Sonehri bank ATM\n",
    "15-6-2024-06:36pm, 5000 rupees has been withdrawn from your account at Sonehri bank ATM \"\"\")\n",
    "        elif option == 3:\n",
    "            Withdrawal_amount = int(input(\"Please enter your withdrawal amount: \"))\n",
    "            balance = balance - Withdrawal_amount\n",
    "            print(f\"{Withdrawal_amount} is debited\")\n",
    "            print(f\"Your current balance is {balance}\")\n",
    "        elif option == 4:\n",
    "            deposit_amount = int(input(\"please Enter your deposit amount: \"))\n",
    "            balance = balance + deposit_amount\n",
    "            print(f\"{deposit_amount} is credited to your account\")\n",
    "            print(f\"your current balance is {balance}\")\n",
    "        elif option == 5:\n",
    "            Transfer_amount = int(input(\"Please Enter your transfer amount\"))\n",
    "            balance = balance - Transfer_amount\n",
    "            print(f\"{Transfer_amount} is transferred to Mary\")\n",
    "            print(f\"Your current balance is {balance}\")\n",
    "        elif option == 6:\n",
    "            break\n",
    "        else:\n",
    "            print(\"Invalid option\")\n",
    "else:\n",
    "    print(\"Incorrect pin\\nPlease Try  Again\")\n"
   ]
  },
  {
   "cell_type": "code",
   "execution_count": null,
   "id": "0b658ed4-c45c-4aa5-a5a5-42576b025bc3",
   "metadata": {},
   "outputs": [],
   "source": []
  },
  {
   "cell_type": "code",
   "execution_count": null,
   "id": "4358f440-ffbf-4651-a304-9db4a94e7def",
   "metadata": {},
   "outputs": [],
   "source": []
  }
 ],
 "metadata": {
  "kernelspec": {
   "display_name": "Python 3 (ipykernel)",
   "language": "python",
   "name": "python3"
  },
  "language_info": {
   "codemirror_mode": {
    "name": "ipython",
    "version": 3
   },
   "file_extension": ".py",
   "mimetype": "text/x-python",
   "name": "python",
   "nbconvert_exporter": "python",
   "pygments_lexer": "ipython3",
   "version": "3.11.7"
  }
 },
 "nbformat": 4,
 "nbformat_minor": 5
}
